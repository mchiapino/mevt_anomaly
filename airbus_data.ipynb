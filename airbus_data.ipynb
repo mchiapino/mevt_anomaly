{
 "cells": [
  {
   "cell_type": "code",
   "execution_count": 75,
   "metadata": {},
   "outputs": [],
   "source": [
    "import numpy as np\n",
    "from numpy import genfromtxt\n",
    "import matplotlib.pyplot as plt\n",
    "\n",
    "import damex_algo as dmx"
   ]
  },
  {
   "cell_type": "code",
   "execution_count": 76,
   "metadata": {},
   "outputs": [
    {
     "name": "stdout",
     "output_type": "stream",
     "text": [
      "18553 82\n"
     ]
    }
   ],
   "source": [
    "# Data extraction\n",
    "data = genfromtxt('Data_Anne.csv', delimiter=',')\n",
    "data = data[1:, 1:]\n",
    "n, d = np.shape(data)\n",
    "print n, d"
   ]
  },
  {
   "cell_type": "code",
   "execution_count": 77,
   "metadata": {},
   "outputs": [],
   "source": [
    "# Each feature is doubled, separating points above and below the mean\n",
    "mean_data = np.mean(data, axis=0)\n",
    "data_var = data - mean_data\n",
    "data_doubled = np.zeros((n, 2*d))\n",
    "for j in range(d):\n",
    "    data_doubled[data_var[:, j] > 0, j] = data_var[data_var[:, j] > 0, j]  # Above the mean, for j=0,...,d-1\n",
    "    data_doubled[data_var[:, j] < 0, d + j] = - data_var[data_var[:, j] < 0, j]  # Below the mean, for j=d,...,2*d-1"
   ]
  },
  {
   "cell_type": "code",
   "execution_count": 78,
   "metadata": {},
   "outputs": [],
   "source": [
    "# Rank transformation, for each margin (column) V_i = n/(rank(X_i) + 1)\n",
    "data_rank = clf.rank_transformation(data_doubled)"
   ]
  },
  {
   "cell_type": "code",
   "execution_count": 82,
   "metadata": {},
   "outputs": [
    {
     "name": "stdout",
     "output_type": "stream",
     "text": [
      "3233\n"
     ]
    }
   ],
   "source": [
    "# Damex\n",
    "k = 50\n",
    "R = n/float(k)\n",
    "x_extr = data_rank[np.max(data_rank, axis=1) > R]\n",
    "eps = 0.3\n",
    "x_damex = 1*(x_extr > eps*R)\n",
    "print len(x_extr)"
   ]
  },
  {
   "cell_type": "code",
   "execution_count": 83,
   "metadata": {},
   "outputs": [],
   "source": [
    "# Cluster of identical line of x_damex\n",
    "alphas_mass_damex = dmx.check_dataset(x_damex)  # List of faces (groups of features) along with the number of points inside\n",
    "alphas_damex = [alpha[0] for alpha in alphas_mass_damex]"
   ]
  },
  {
   "cell_type": "code",
   "execution_count": 84,
   "metadata": {},
   "outputs": [
    {
     "data": {
      "text/plain": [
       "[([86, 119, 146, 147, 148], 35),\n",
       " ([4, 37, 64, 65], 32),\n",
       " ([18, 19, 20, 21], 26),\n",
       " ([100, 101, 102, 103, 104], 21),\n",
       " ([141, 142, 143, 144, 145], 20),\n",
       " ([18, 19, 20, 21, 22], 20),\n",
       " ([25, 67, 145], 20),\n",
       " ([114, 115, 116, 117, 118], 19),\n",
       " ([59, 60, 61, 62, 63], 18),\n",
       " ([151, 156], 17)]"
      ]
     },
     "execution_count": 84,
     "metadata": {},
     "output_type": "execute_result"
    }
   ],
   "source": [
    "# Return the face and the number of points in the face\n",
    "alphas_mass_damex[:10]  # 10 bigger faces"
   ]
  },
  {
   "cell_type": "code",
   "execution_count": 52,
   "metadata": {},
   "outputs": [
    {
     "data": {
      "image/png": "[encoded data removed]",
      "text/plain": [
       "<matplotlib.figure.Figure at 0x7fe00a88f790>"
      ]
     },
     "metadata": {},
     "output_type": "display_data"
    }
   ],
   "source": [
    "alphas_mass = [alphas[1] for alphas in alphas_mass_damex]\n",
    "plt.hist(alphas_mass, bins=100)\n",
    "plt.show()"
   ]
  }
 ],
 "metadata": {
  "kernelspec": {
   "display_name": "Python 2",
   "language": "python",
   "name": "python2"
  },
  "language_info": {
   "codemirror_mode": {
    "name": "ipython",
    "version": 2
   },
   "file_extension": ".py",
   "mimetype": "text/x-python",
   "name": "python",
   "nbconvert_exporter": "python",
   "pygments_lexer": "ipython2",
   "version": "2.7.12"
  }
 },
 "nbformat": 4,
 "nbformat_minor": 2
}
